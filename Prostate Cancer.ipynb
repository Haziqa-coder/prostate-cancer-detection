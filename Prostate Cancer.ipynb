{
 "cells": [
  {
   "cell_type": "markdown",
   "metadata": {},
   "source": [
    "Q2:\n",
    "Prostate cancer dataset is the small dataset downloaded from kaggle. It is only 4kb in size and contains only 9 attributes."
   ]
  },
  {
   "cell_type": "code",
   "execution_count": 1,
   "metadata": {},
   "outputs": [],
   "source": [
    "import numpy as np\n",
    "import matplotlib.pyplot as plt\n",
    "import seaborn as sns"
   ]
  },
  {
   "cell_type": "code",
   "execution_count": 2,
   "metadata": {},
   "outputs": [],
   "source": [
    "import pandas as pd \n",
    "data = pd.read_csv('Prostate_Cancer.csv')"
   ]
  },
  {
   "cell_type": "markdown",
   "metadata": {},
   "source": [
    "<h3>Lets explore the data first</h3>"
   ]
  },
  {
   "cell_type": "code",
   "execution_count": 3,
   "metadata": {},
   "outputs": [
    {
     "data": {
      "text/html": [
       "<div>\n",
       "<style scoped>\n",
       "    .dataframe tbody tr th:only-of-type {\n",
       "        vertical-align: middle;\n",
       "    }\n",
       "\n",
       "    .dataframe tbody tr th {\n",
       "        vertical-align: top;\n",
       "    }\n",
       "\n",
       "    .dataframe thead th {\n",
       "        text-align: right;\n",
       "    }\n",
       "</style>\n",
       "<table border=\"1\" class=\"dataframe\">\n",
       "  <thead>\n",
       "    <tr style=\"text-align: right;\">\n",
       "      <th></th>\n",
       "      <th>id</th>\n",
       "      <th>diagnosis_result</th>\n",
       "      <th>radius</th>\n",
       "      <th>texture</th>\n",
       "      <th>perimeter</th>\n",
       "      <th>area</th>\n",
       "      <th>smoothness</th>\n",
       "      <th>compactness</th>\n",
       "      <th>symmetry</th>\n",
       "      <th>fractal_dimension</th>\n",
       "    </tr>\n",
       "  </thead>\n",
       "  <tbody>\n",
       "    <tr>\n",
       "      <th>0</th>\n",
       "      <td>1</td>\n",
       "      <td>M</td>\n",
       "      <td>23</td>\n",
       "      <td>12</td>\n",
       "      <td>151</td>\n",
       "      <td>954</td>\n",
       "      <td>0.143</td>\n",
       "      <td>0.278</td>\n",
       "      <td>0.242</td>\n",
       "      <td>0.079</td>\n",
       "    </tr>\n",
       "    <tr>\n",
       "      <th>1</th>\n",
       "      <td>2</td>\n",
       "      <td>B</td>\n",
       "      <td>9</td>\n",
       "      <td>13</td>\n",
       "      <td>133</td>\n",
       "      <td>1326</td>\n",
       "      <td>0.143</td>\n",
       "      <td>0.079</td>\n",
       "      <td>0.181</td>\n",
       "      <td>0.057</td>\n",
       "    </tr>\n",
       "    <tr>\n",
       "      <th>2</th>\n",
       "      <td>3</td>\n",
       "      <td>M</td>\n",
       "      <td>21</td>\n",
       "      <td>27</td>\n",
       "      <td>130</td>\n",
       "      <td>1203</td>\n",
       "      <td>0.125</td>\n",
       "      <td>0.160</td>\n",
       "      <td>0.207</td>\n",
       "      <td>0.060</td>\n",
       "    </tr>\n",
       "    <tr>\n",
       "      <th>3</th>\n",
       "      <td>4</td>\n",
       "      <td>M</td>\n",
       "      <td>14</td>\n",
       "      <td>16</td>\n",
       "      <td>78</td>\n",
       "      <td>386</td>\n",
       "      <td>0.070</td>\n",
       "      <td>0.284</td>\n",
       "      <td>0.260</td>\n",
       "      <td>0.097</td>\n",
       "    </tr>\n",
       "    <tr>\n",
       "      <th>4</th>\n",
       "      <td>5</td>\n",
       "      <td>M</td>\n",
       "      <td>9</td>\n",
       "      <td>19</td>\n",
       "      <td>135</td>\n",
       "      <td>1297</td>\n",
       "      <td>0.141</td>\n",
       "      <td>0.133</td>\n",
       "      <td>0.181</td>\n",
       "      <td>0.059</td>\n",
       "    </tr>\n",
       "  </tbody>\n",
       "</table>\n",
       "</div>"
      ],
      "text/plain": [
       "   id diagnosis_result  radius  texture  perimeter  area  smoothness  \\\n",
       "0   1                M      23       12        151   954       0.143   \n",
       "1   2                B       9       13        133  1326       0.143   \n",
       "2   3                M      21       27        130  1203       0.125   \n",
       "3   4                M      14       16         78   386       0.070   \n",
       "4   5                M       9       19        135  1297       0.141   \n",
       "\n",
       "   compactness  symmetry  fractal_dimension  \n",
       "0        0.278     0.242              0.079  \n",
       "1        0.079     0.181              0.057  \n",
       "2        0.160     0.207              0.060  \n",
       "3        0.284     0.260              0.097  \n",
       "4        0.133     0.181              0.059  "
      ]
     },
     "execution_count": 3,
     "metadata": {},
     "output_type": "execute_result"
    }
   ],
   "source": [
    "data.head()"
   ]
  },
  {
   "cell_type": "code",
   "execution_count": 4,
   "metadata": {},
   "outputs": [
    {
     "data": {
      "text/plain": [
       "<bound method NDFrame.tail of      id diagnosis_result  radius  texture  perimeter  area  smoothness  \\\n",
       "0     1                M      23       12        151   954       0.143   \n",
       "1     2                B       9       13        133  1326       0.143   \n",
       "2     3                M      21       27        130  1203       0.125   \n",
       "3     4                M      14       16         78   386       0.070   \n",
       "4     5                M       9       19        135  1297       0.141   \n",
       "..  ...              ...     ...      ...        ...   ...         ...   \n",
       "95   96                M      23       16        132  1264       0.091   \n",
       "96   97                B      22       14         78   451       0.105   \n",
       "97   98                B      19       27         62   295       0.102   \n",
       "98   99                B      21       24         74   413       0.090   \n",
       "99  100                M      16       27         94   643       0.098   \n",
       "\n",
       "    compactness  symmetry  fractal_dimension  \n",
       "0         0.278     0.242              0.079  \n",
       "1         0.079     0.181              0.057  \n",
       "2         0.160     0.207              0.060  \n",
       "3         0.284     0.260              0.097  \n",
       "4         0.133     0.181              0.059  \n",
       "..          ...       ...                ...  \n",
       "95        0.131     0.210              0.056  \n",
       "96        0.071     0.190              0.066  \n",
       "97        0.053     0.135              0.069  \n",
       "98        0.075     0.162              0.066  \n",
       "99        0.114     0.188              0.064  \n",
       "\n",
       "[100 rows x 10 columns]>"
      ]
     },
     "execution_count": 4,
     "metadata": {},
     "output_type": "execute_result"
    }
   ],
   "source": [
    "data.tail"
   ]
  },
  {
   "cell_type": "code",
   "execution_count": 5,
   "metadata": {},
   "outputs": [
    {
     "data": {
      "text/plain": [
       "(100, 10)"
      ]
     },
     "execution_count": 5,
     "metadata": {},
     "output_type": "execute_result"
    }
   ],
   "source": [
    "data.shape"
   ]
  },
  {
   "cell_type": "code",
   "execution_count": 6,
   "metadata": {},
   "outputs": [
    {
     "data": {
      "text/plain": [
       "Index(['id', 'diagnosis_result', 'radius', 'texture', 'perimeter', 'area',\n",
       "       'smoothness', 'compactness', 'symmetry', 'fractal_dimension'],\n",
       "      dtype='object')"
      ]
     },
     "execution_count": 6,
     "metadata": {},
     "output_type": "execute_result"
    }
   ],
   "source": [
    "data.columns"
   ]
  },
  {
   "cell_type": "code",
   "execution_count": 7,
   "metadata": {},
   "outputs": [
    {
     "data": {
      "text/html": [
       "<div>\n",
       "<style scoped>\n",
       "    .dataframe tbody tr th:only-of-type {\n",
       "        vertical-align: middle;\n",
       "    }\n",
       "\n",
       "    .dataframe tbody tr th {\n",
       "        vertical-align: top;\n",
       "    }\n",
       "\n",
       "    .dataframe thead th {\n",
       "        text-align: right;\n",
       "    }\n",
       "</style>\n",
       "<table border=\"1\" class=\"dataframe\">\n",
       "  <thead>\n",
       "    <tr style=\"text-align: right;\">\n",
       "      <th></th>\n",
       "      <th>id</th>\n",
       "      <th>radius</th>\n",
       "      <th>texture</th>\n",
       "      <th>perimeter</th>\n",
       "      <th>area</th>\n",
       "      <th>smoothness</th>\n",
       "      <th>compactness</th>\n",
       "      <th>symmetry</th>\n",
       "      <th>fractal_dimension</th>\n",
       "    </tr>\n",
       "  </thead>\n",
       "  <tbody>\n",
       "    <tr>\n",
       "      <th>count</th>\n",
       "      <td>100.000000</td>\n",
       "      <td>100.000000</td>\n",
       "      <td>100.000000</td>\n",
       "      <td>100.000000</td>\n",
       "      <td>100.000000</td>\n",
       "      <td>100.000000</td>\n",
       "      <td>100.000000</td>\n",
       "      <td>100.000000</td>\n",
       "      <td>100.000000</td>\n",
       "    </tr>\n",
       "    <tr>\n",
       "      <th>mean</th>\n",
       "      <td>50.500000</td>\n",
       "      <td>16.850000</td>\n",
       "      <td>18.230000</td>\n",
       "      <td>96.780000</td>\n",
       "      <td>702.880000</td>\n",
       "      <td>0.102730</td>\n",
       "      <td>0.126700</td>\n",
       "      <td>0.193170</td>\n",
       "      <td>0.064690</td>\n",
       "    </tr>\n",
       "    <tr>\n",
       "      <th>std</th>\n",
       "      <td>29.011492</td>\n",
       "      <td>4.879094</td>\n",
       "      <td>5.192954</td>\n",
       "      <td>23.676089</td>\n",
       "      <td>319.710895</td>\n",
       "      <td>0.014642</td>\n",
       "      <td>0.061144</td>\n",
       "      <td>0.030785</td>\n",
       "      <td>0.008151</td>\n",
       "    </tr>\n",
       "    <tr>\n",
       "      <th>min</th>\n",
       "      <td>1.000000</td>\n",
       "      <td>9.000000</td>\n",
       "      <td>11.000000</td>\n",
       "      <td>52.000000</td>\n",
       "      <td>202.000000</td>\n",
       "      <td>0.070000</td>\n",
       "      <td>0.038000</td>\n",
       "      <td>0.135000</td>\n",
       "      <td>0.053000</td>\n",
       "    </tr>\n",
       "    <tr>\n",
       "      <th>25%</th>\n",
       "      <td>25.750000</td>\n",
       "      <td>12.000000</td>\n",
       "      <td>14.000000</td>\n",
       "      <td>82.500000</td>\n",
       "      <td>476.750000</td>\n",
       "      <td>0.093500</td>\n",
       "      <td>0.080500</td>\n",
       "      <td>0.172000</td>\n",
       "      <td>0.059000</td>\n",
       "    </tr>\n",
       "    <tr>\n",
       "      <th>50%</th>\n",
       "      <td>50.500000</td>\n",
       "      <td>17.000000</td>\n",
       "      <td>17.500000</td>\n",
       "      <td>94.000000</td>\n",
       "      <td>644.000000</td>\n",
       "      <td>0.102000</td>\n",
       "      <td>0.118500</td>\n",
       "      <td>0.190000</td>\n",
       "      <td>0.063000</td>\n",
       "    </tr>\n",
       "    <tr>\n",
       "      <th>75%</th>\n",
       "      <td>75.250000</td>\n",
       "      <td>21.000000</td>\n",
       "      <td>22.250000</td>\n",
       "      <td>114.250000</td>\n",
       "      <td>917.000000</td>\n",
       "      <td>0.112000</td>\n",
       "      <td>0.157000</td>\n",
       "      <td>0.209000</td>\n",
       "      <td>0.069000</td>\n",
       "    </tr>\n",
       "    <tr>\n",
       "      <th>max</th>\n",
       "      <td>100.000000</td>\n",
       "      <td>25.000000</td>\n",
       "      <td>27.000000</td>\n",
       "      <td>172.000000</td>\n",
       "      <td>1878.000000</td>\n",
       "      <td>0.143000</td>\n",
       "      <td>0.345000</td>\n",
       "      <td>0.304000</td>\n",
       "      <td>0.097000</td>\n",
       "    </tr>\n",
       "  </tbody>\n",
       "</table>\n",
       "</div>"
      ],
      "text/plain": [
       "               id      radius     texture   perimeter         area  \\\n",
       "count  100.000000  100.000000  100.000000  100.000000   100.000000   \n",
       "mean    50.500000   16.850000   18.230000   96.780000   702.880000   \n",
       "std     29.011492    4.879094    5.192954   23.676089   319.710895   \n",
       "min      1.000000    9.000000   11.000000   52.000000   202.000000   \n",
       "25%     25.750000   12.000000   14.000000   82.500000   476.750000   \n",
       "50%     50.500000   17.000000   17.500000   94.000000   644.000000   \n",
       "75%     75.250000   21.000000   22.250000  114.250000   917.000000   \n",
       "max    100.000000   25.000000   27.000000  172.000000  1878.000000   \n",
       "\n",
       "       smoothness  compactness    symmetry  fractal_dimension  \n",
       "count  100.000000   100.000000  100.000000         100.000000  \n",
       "mean     0.102730     0.126700    0.193170           0.064690  \n",
       "std      0.014642     0.061144    0.030785           0.008151  \n",
       "min      0.070000     0.038000    0.135000           0.053000  \n",
       "25%      0.093500     0.080500    0.172000           0.059000  \n",
       "50%      0.102000     0.118500    0.190000           0.063000  \n",
       "75%      0.112000     0.157000    0.209000           0.069000  \n",
       "max      0.143000     0.345000    0.304000           0.097000  "
      ]
     },
     "execution_count": 7,
     "metadata": {},
     "output_type": "execute_result"
    }
   ],
   "source": [
    "data.describe()"
   ]
  },
  {
   "cell_type": "code",
   "execution_count": 8,
   "metadata": {},
   "outputs": [
    {
     "data": {
      "text/plain": [
       "id                     int64\n",
       "diagnosis_result      object\n",
       "radius                 int64\n",
       "texture                int64\n",
       "perimeter              int64\n",
       "area                   int64\n",
       "smoothness           float64\n",
       "compactness          float64\n",
       "symmetry             float64\n",
       "fractal_dimension    float64\n",
       "dtype: object"
      ]
     },
     "execution_count": 8,
     "metadata": {},
     "output_type": "execute_result"
    }
   ],
   "source": [
    "data.dtypes"
   ]
  },
  {
   "cell_type": "markdown",
   "metadata": {},
   "source": [
    "<h3>Here starts the data wrangling / preprocessing part which is the preliminary requirement for optimal data analysis</h3>\n",
    "<p>Following steps are involved\n",
    "<br>1. Finding missing values\n",
    "<br>2. Changing data types of features, if require\n",
    "<br>3. Encoding of data for categorical features</p>"
   ]
  },
  {
   "cell_type": "code",
   "execution_count": 9,
   "metadata": {},
   "outputs": [
    {
     "data": {
      "text/plain": [
       "False"
      ]
     },
     "execution_count": 9,
     "metadata": {},
     "output_type": "execute_result"
    }
   ],
   "source": [
    "data.isnull().values.any()"
   ]
  },
  {
   "cell_type": "markdown",
   "metadata": {},
   "source": [
    "<p>There are no missing values in the data. So first part of preprocessing is accomplished.</p>"
   ]
  },
  {
   "cell_type": "markdown",
   "metadata": {},
   "source": [
    "Diagnosis result is the only column with categorical features. This column holds alot of importance in our data."
   ]
  },
  {
   "cell_type": "code",
   "execution_count": 10,
   "metadata": {},
   "outputs": [],
   "source": [
    "data.diagnosis_result = [1 if each == 'M' else 0 for each in data.diagnosis_result]"
   ]
  },
  {
   "cell_type": "code",
   "execution_count": 11,
   "metadata": {},
   "outputs": [
    {
     "data": {
      "text/plain": [
       "1    62\n",
       "0    38\n",
       "Name: diagnosis_result, dtype: int64"
      ]
     },
     "execution_count": 11,
     "metadata": {},
     "output_type": "execute_result"
    }
   ],
   "source": [
    "data.diagnosis_result.value_counts()"
   ]
  },
  {
   "cell_type": "markdown",
   "metadata": {},
   "source": [
    "<h3>Feature Selection</h3>\n",
    "<p>We will choose the features that contribute towards cancer diagnosis. The id of the patient doesnot contribute to our diagnosis. So we will drop it</p>"
   ]
  },
  {
   "cell_type": "code",
   "execution_count": 12,
   "metadata": {},
   "outputs": [],
   "source": [
    "data.drop(['id'],axis=1,inplace=True)"
   ]
  },
  {
   "cell_type": "code",
   "execution_count": 13,
   "metadata": {},
   "outputs": [
    {
     "data": {
      "text/html": [
       "<div>\n",
       "<style scoped>\n",
       "    .dataframe tbody tr th:only-of-type {\n",
       "        vertical-align: middle;\n",
       "    }\n",
       "\n",
       "    .dataframe tbody tr th {\n",
       "        vertical-align: top;\n",
       "    }\n",
       "\n",
       "    .dataframe thead th {\n",
       "        text-align: right;\n",
       "    }\n",
       "</style>\n",
       "<table border=\"1\" class=\"dataframe\">\n",
       "  <thead>\n",
       "    <tr style=\"text-align: right;\">\n",
       "      <th></th>\n",
       "      <th>diagnosis_result</th>\n",
       "      <th>radius</th>\n",
       "      <th>texture</th>\n",
       "      <th>perimeter</th>\n",
       "      <th>area</th>\n",
       "      <th>smoothness</th>\n",
       "      <th>compactness</th>\n",
       "      <th>symmetry</th>\n",
       "      <th>fractal_dimension</th>\n",
       "    </tr>\n",
       "  </thead>\n",
       "  <tbody>\n",
       "    <tr>\n",
       "      <th>count</th>\n",
       "      <td>100.000000</td>\n",
       "      <td>100.000000</td>\n",
       "      <td>100.000000</td>\n",
       "      <td>100.000000</td>\n",
       "      <td>100.000000</td>\n",
       "      <td>100.000000</td>\n",
       "      <td>100.000000</td>\n",
       "      <td>100.000000</td>\n",
       "      <td>100.000000</td>\n",
       "    </tr>\n",
       "    <tr>\n",
       "      <th>mean</th>\n",
       "      <td>0.620000</td>\n",
       "      <td>16.850000</td>\n",
       "      <td>18.230000</td>\n",
       "      <td>96.780000</td>\n",
       "      <td>702.880000</td>\n",
       "      <td>0.102730</td>\n",
       "      <td>0.126700</td>\n",
       "      <td>0.193170</td>\n",
       "      <td>0.064690</td>\n",
       "    </tr>\n",
       "    <tr>\n",
       "      <th>std</th>\n",
       "      <td>0.487832</td>\n",
       "      <td>4.879094</td>\n",
       "      <td>5.192954</td>\n",
       "      <td>23.676089</td>\n",
       "      <td>319.710895</td>\n",
       "      <td>0.014642</td>\n",
       "      <td>0.061144</td>\n",
       "      <td>0.030785</td>\n",
       "      <td>0.008151</td>\n",
       "    </tr>\n",
       "    <tr>\n",
       "      <th>min</th>\n",
       "      <td>0.000000</td>\n",
       "      <td>9.000000</td>\n",
       "      <td>11.000000</td>\n",
       "      <td>52.000000</td>\n",
       "      <td>202.000000</td>\n",
       "      <td>0.070000</td>\n",
       "      <td>0.038000</td>\n",
       "      <td>0.135000</td>\n",
       "      <td>0.053000</td>\n",
       "    </tr>\n",
       "    <tr>\n",
       "      <th>25%</th>\n",
       "      <td>0.000000</td>\n",
       "      <td>12.000000</td>\n",
       "      <td>14.000000</td>\n",
       "      <td>82.500000</td>\n",
       "      <td>476.750000</td>\n",
       "      <td>0.093500</td>\n",
       "      <td>0.080500</td>\n",
       "      <td>0.172000</td>\n",
       "      <td>0.059000</td>\n",
       "    </tr>\n",
       "    <tr>\n",
       "      <th>50%</th>\n",
       "      <td>1.000000</td>\n",
       "      <td>17.000000</td>\n",
       "      <td>17.500000</td>\n",
       "      <td>94.000000</td>\n",
       "      <td>644.000000</td>\n",
       "      <td>0.102000</td>\n",
       "      <td>0.118500</td>\n",
       "      <td>0.190000</td>\n",
       "      <td>0.063000</td>\n",
       "    </tr>\n",
       "    <tr>\n",
       "      <th>75%</th>\n",
       "      <td>1.000000</td>\n",
       "      <td>21.000000</td>\n",
       "      <td>22.250000</td>\n",
       "      <td>114.250000</td>\n",
       "      <td>917.000000</td>\n",
       "      <td>0.112000</td>\n",
       "      <td>0.157000</td>\n",
       "      <td>0.209000</td>\n",
       "      <td>0.069000</td>\n",
       "    </tr>\n",
       "    <tr>\n",
       "      <th>max</th>\n",
       "      <td>1.000000</td>\n",
       "      <td>25.000000</td>\n",
       "      <td>27.000000</td>\n",
       "      <td>172.000000</td>\n",
       "      <td>1878.000000</td>\n",
       "      <td>0.143000</td>\n",
       "      <td>0.345000</td>\n",
       "      <td>0.304000</td>\n",
       "      <td>0.097000</td>\n",
       "    </tr>\n",
       "  </tbody>\n",
       "</table>\n",
       "</div>"
      ],
      "text/plain": [
       "       diagnosis_result      radius     texture   perimeter         area  \\\n",
       "count        100.000000  100.000000  100.000000  100.000000   100.000000   \n",
       "mean           0.620000   16.850000   18.230000   96.780000   702.880000   \n",
       "std            0.487832    4.879094    5.192954   23.676089   319.710895   \n",
       "min            0.000000    9.000000   11.000000   52.000000   202.000000   \n",
       "25%            0.000000   12.000000   14.000000   82.500000   476.750000   \n",
       "50%            1.000000   17.000000   17.500000   94.000000   644.000000   \n",
       "75%            1.000000   21.000000   22.250000  114.250000   917.000000   \n",
       "max            1.000000   25.000000   27.000000  172.000000  1878.000000   \n",
       "\n",
       "       smoothness  compactness    symmetry  fractal_dimension  \n",
       "count  100.000000   100.000000  100.000000         100.000000  \n",
       "mean     0.102730     0.126700    0.193170           0.064690  \n",
       "std      0.014642     0.061144    0.030785           0.008151  \n",
       "min      0.070000     0.038000    0.135000           0.053000  \n",
       "25%      0.093500     0.080500    0.172000           0.059000  \n",
       "50%      0.102000     0.118500    0.190000           0.063000  \n",
       "75%      0.112000     0.157000    0.209000           0.069000  \n",
       "max      0.143000     0.345000    0.304000           0.097000  "
      ]
     },
     "execution_count": 13,
     "metadata": {},
     "output_type": "execute_result"
    }
   ],
   "source": [
    "data.describe()"
   ]
  },
  {
   "cell_type": "code",
   "execution_count": 14,
   "metadata": {},
   "outputs": [],
   "source": [
    "y = data.diagnosis_result.values\n",
    "x_ = data.drop(['diagnosis_result'],axis=1)"
   ]
  },
  {
   "cell_type": "code",
   "execution_count": 15,
   "metadata": {},
   "outputs": [
    {
     "data": {
      "text/html": [
       "<div>\n",
       "<style scoped>\n",
       "    .dataframe tbody tr th:only-of-type {\n",
       "        vertical-align: middle;\n",
       "    }\n",
       "\n",
       "    .dataframe tbody tr th {\n",
       "        vertical-align: top;\n",
       "    }\n",
       "\n",
       "    .dataframe thead th {\n",
       "        text-align: right;\n",
       "    }\n",
       "</style>\n",
       "<table border=\"1\" class=\"dataframe\">\n",
       "  <thead>\n",
       "    <tr style=\"text-align: right;\">\n",
       "      <th></th>\n",
       "      <th>radius</th>\n",
       "      <th>texture</th>\n",
       "      <th>perimeter</th>\n",
       "      <th>area</th>\n",
       "      <th>smoothness</th>\n",
       "      <th>compactness</th>\n",
       "      <th>symmetry</th>\n",
       "      <th>fractal_dimension</th>\n",
       "    </tr>\n",
       "  </thead>\n",
       "  <tbody>\n",
       "    <tr>\n",
       "      <th>0</th>\n",
       "      <td>23</td>\n",
       "      <td>12</td>\n",
       "      <td>151</td>\n",
       "      <td>954</td>\n",
       "      <td>0.143</td>\n",
       "      <td>0.278</td>\n",
       "      <td>0.242</td>\n",
       "      <td>0.079</td>\n",
       "    </tr>\n",
       "    <tr>\n",
       "      <th>1</th>\n",
       "      <td>9</td>\n",
       "      <td>13</td>\n",
       "      <td>133</td>\n",
       "      <td>1326</td>\n",
       "      <td>0.143</td>\n",
       "      <td>0.079</td>\n",
       "      <td>0.181</td>\n",
       "      <td>0.057</td>\n",
       "    </tr>\n",
       "    <tr>\n",
       "      <th>2</th>\n",
       "      <td>21</td>\n",
       "      <td>27</td>\n",
       "      <td>130</td>\n",
       "      <td>1203</td>\n",
       "      <td>0.125</td>\n",
       "      <td>0.160</td>\n",
       "      <td>0.207</td>\n",
       "      <td>0.060</td>\n",
       "    </tr>\n",
       "    <tr>\n",
       "      <th>3</th>\n",
       "      <td>14</td>\n",
       "      <td>16</td>\n",
       "      <td>78</td>\n",
       "      <td>386</td>\n",
       "      <td>0.070</td>\n",
       "      <td>0.284</td>\n",
       "      <td>0.260</td>\n",
       "      <td>0.097</td>\n",
       "    </tr>\n",
       "    <tr>\n",
       "      <th>4</th>\n",
       "      <td>9</td>\n",
       "      <td>19</td>\n",
       "      <td>135</td>\n",
       "      <td>1297</td>\n",
       "      <td>0.141</td>\n",
       "      <td>0.133</td>\n",
       "      <td>0.181</td>\n",
       "      <td>0.059</td>\n",
       "    </tr>\n",
       "    <tr>\n",
       "      <th>...</th>\n",
       "      <td>...</td>\n",
       "      <td>...</td>\n",
       "      <td>...</td>\n",
       "      <td>...</td>\n",
       "      <td>...</td>\n",
       "      <td>...</td>\n",
       "      <td>...</td>\n",
       "      <td>...</td>\n",
       "    </tr>\n",
       "    <tr>\n",
       "      <th>95</th>\n",
       "      <td>23</td>\n",
       "      <td>16</td>\n",
       "      <td>132</td>\n",
       "      <td>1264</td>\n",
       "      <td>0.091</td>\n",
       "      <td>0.131</td>\n",
       "      <td>0.210</td>\n",
       "      <td>0.056</td>\n",
       "    </tr>\n",
       "    <tr>\n",
       "      <th>96</th>\n",
       "      <td>22</td>\n",
       "      <td>14</td>\n",
       "      <td>78</td>\n",
       "      <td>451</td>\n",
       "      <td>0.105</td>\n",
       "      <td>0.071</td>\n",
       "      <td>0.190</td>\n",
       "      <td>0.066</td>\n",
       "    </tr>\n",
       "    <tr>\n",
       "      <th>97</th>\n",
       "      <td>19</td>\n",
       "      <td>27</td>\n",
       "      <td>62</td>\n",
       "      <td>295</td>\n",
       "      <td>0.102</td>\n",
       "      <td>0.053</td>\n",
       "      <td>0.135</td>\n",
       "      <td>0.069</td>\n",
       "    </tr>\n",
       "    <tr>\n",
       "      <th>98</th>\n",
       "      <td>21</td>\n",
       "      <td>24</td>\n",
       "      <td>74</td>\n",
       "      <td>413</td>\n",
       "      <td>0.090</td>\n",
       "      <td>0.075</td>\n",
       "      <td>0.162</td>\n",
       "      <td>0.066</td>\n",
       "    </tr>\n",
       "    <tr>\n",
       "      <th>99</th>\n",
       "      <td>16</td>\n",
       "      <td>27</td>\n",
       "      <td>94</td>\n",
       "      <td>643</td>\n",
       "      <td>0.098</td>\n",
       "      <td>0.114</td>\n",
       "      <td>0.188</td>\n",
       "      <td>0.064</td>\n",
       "    </tr>\n",
       "  </tbody>\n",
       "</table>\n",
       "<p>100 rows × 8 columns</p>\n",
       "</div>"
      ],
      "text/plain": [
       "    radius  texture  perimeter  area  smoothness  compactness  symmetry  \\\n",
       "0       23       12        151   954       0.143        0.278     0.242   \n",
       "1        9       13        133  1326       0.143        0.079     0.181   \n",
       "2       21       27        130  1203       0.125        0.160     0.207   \n",
       "3       14       16         78   386       0.070        0.284     0.260   \n",
       "4        9       19        135  1297       0.141        0.133     0.181   \n",
       "..     ...      ...        ...   ...         ...          ...       ...   \n",
       "95      23       16        132  1264       0.091        0.131     0.210   \n",
       "96      22       14         78   451       0.105        0.071     0.190   \n",
       "97      19       27         62   295       0.102        0.053     0.135   \n",
       "98      21       24         74   413       0.090        0.075     0.162   \n",
       "99      16       27         94   643       0.098        0.114     0.188   \n",
       "\n",
       "    fractal_dimension  \n",
       "0               0.079  \n",
       "1               0.057  \n",
       "2               0.060  \n",
       "3               0.097  \n",
       "4               0.059  \n",
       "..                ...  \n",
       "95              0.056  \n",
       "96              0.066  \n",
       "97              0.069  \n",
       "98              0.066  \n",
       "99              0.064  \n",
       "\n",
       "[100 rows x 8 columns]"
      ]
     },
     "execution_count": 15,
     "metadata": {},
     "output_type": "execute_result"
    }
   ],
   "source": [
    "x_"
   ]
  },
  {
   "cell_type": "markdown",
   "metadata": {},
   "source": [
    "<h3>Normalization</h3>\n",
    "<p>After having a look at the data, we realize that different columns have values in different ranges</p>\n",
    "<br>So we need to apply normalization to the data."
   ]
  },
  {
   "cell_type": "code",
   "execution_count": 16,
   "metadata": {},
   "outputs": [],
   "source": [
    "from sklearn.preprocessing import MinMaxScaler\n",
    "scaler = MinMaxScaler(feature_range=(0,1))\n",
    "x = scaler.fit_transform(x_)"
   ]
  },
  {
   "cell_type": "code",
   "execution_count": 17,
   "metadata": {},
   "outputs": [
    {
     "data": {
      "text/plain": [
       "array([[0.875     , 0.0625    , 0.825     , 0.44868735, 1.        ,\n",
       "        0.78175896, 0.63313609, 0.59090909],\n",
       "       [0.        , 0.125     , 0.675     , 0.67064439, 1.        ,\n",
       "        0.13355049, 0.27218935, 0.09090909],\n",
       "       [0.75      , 1.        , 0.65      , 0.59725537, 0.75342466,\n",
       "        0.39739414, 0.4260355 , 0.15909091],\n",
       "       [0.3125    , 0.3125    , 0.21666667, 0.1097852 , 0.        ,\n",
       "        0.80130293, 0.73964497, 1.        ],\n",
       "       [0.        , 0.5       , 0.69166667, 0.65334129, 0.97260274,\n",
       "        0.30944625, 0.27218935, 0.13636364],\n",
       "       [1.        , 0.875     , 0.25833333, 0.16408115, 0.79452055,\n",
       "        0.42996743, 0.43786982, 0.52272727],\n",
       "       [0.4375    , 0.9375    , 0.56666667, 0.5       , 0.34246575,\n",
       "        0.23127036, 0.26035503, 0.09090909],\n",
       "       [0.375     , 0.4375    , 0.31666667, 0.22434368, 0.67123288,\n",
       "        0.41368078, 0.50295858, 0.5       ],\n",
       "       [0.625     , 0.8125    , 0.3       , 0.18973747, 0.78082192,\n",
       "        0.50488599, 0.59171598, 0.47727273],\n",
       "       [1.        , 0.        , 0.26666667, 0.16348449, 0.67123288,\n",
       "        0.65798046, 0.40236686, 0.65909091],\n",
       "       [0.9375    , 0.625     , 0.425     , 0.35560859, 0.16438356,\n",
       "        0.09446254, 0.10650888, 0.09090909],\n",
       "       [0.5       , 0.25      , 0.43333333, 0.34546539, 0.36986301,\n",
       "        0.29641694, 0.28994083, 0.18181818],\n",
       "       [0.3125    , 0.25      , 0.66666667, 0.54952267, 0.36986301,\n",
       "        0.67752443, 0.62130178, 0.56818182],\n",
       "       [0.1875    , 0.6875    , 0.43333333, 0.34665871, 0.19178082,\n",
       "        0.2019544 , 0.29585799, 0.        ],\n",
       "       [0.1875    , 0.125     , 0.35      , 0.22434368, 0.5890411 ,\n",
       "        0.62214984, 0.4260355 , 0.54545455],\n",
       "       [0.8125    , 0.5       , 0.375     , 0.27267303, 0.60273973,\n",
       "        0.39739414, 0.56213018, 0.40909091],\n",
       "       [0.0625    , 0.3125    , 0.35833333, 0.28818616, 0.39726027,\n",
       "        0.11074919, 0.14201183, 0.13636364],\n",
       "       [0.375     , 0.1875    , 0.46666667, 0.35620525, 0.64383562,\n",
       "        0.53420195, 0.47928994, 0.47727273],\n",
       "       [0.6875    , 0.1875    , 0.65      , 0.63126492, 0.38356164,\n",
       "        0.21172638, 0.13609467, 0.02272727],\n",
       "       [0.5       , 0.        , 0.29166667, 0.21718377, 0.38356164,\n",
       "        0.14006515, 0.31952663, 0.11363636],\n",
       "       [0.4375    , 0.1875    , 0.28333333, 0.18973747, 0.52054795,\n",
       "        0.28990228, 0.36686391, 0.34090909],\n",
       "       [0.5       , 0.8125    , 0.06666667, 0.04295943, 0.43835616,\n",
       "        0.08794788, 0.27810651, 0.36363636],\n",
       "       [0.6875    , 1.        , 0.425     , 0.29952267, 0.50684932,\n",
       "        0.5732899 , 0.69230769, 0.38636364],\n",
       "       [0.625     , 0.0625    , 0.70833333, 0.71718377, 0.32876712,\n",
       "        0.20846906, 0.24852071, 0.        ],\n",
       "       [0.        , 0.125     , 0.48333333, 0.41945107, 0.57534247,\n",
       "        0.35179153, 0.38461538, 0.22727273],\n",
       "       [0.625     , 1.        , 0.53333333, 0.42422434, 0.67123288,\n",
       "        0.61889251, 1.        , 0.47727273],\n",
       "       [0.0625    , 0.8125    , 0.375     , 0.26431981, 0.47945205,\n",
       "        0.48534202, 0.53254438, 0.36363636],\n",
       "       [0.4375    , 0.8125    , 0.58333333, 0.53221957, 0.32876712,\n",
       "        0.2247557 , 0.20710059, 0.09090909],\n",
       "       [0.375     , 0.25      , 0.41666667, 0.31622912, 0.52054795,\n",
       "        0.42996743, 0.34319527, 0.27272727],\n",
       "       [0.125     , 0.3125    , 0.525     , 0.44928401, 0.38356164,\n",
       "        0.25407166, 0.23076923, 0.18181818],\n",
       "       [0.125     , 0.6875    , 0.60833333, 0.52863962, 0.49315068,\n",
       "        0.49185668, 0.49112426, 0.20454545],\n",
       "       [0.875     , 0.9375    , 0.21666667, 0.14260143, 0.56164384,\n",
       "        0.3713355 , 0.56213018, 0.56818182],\n",
       "       [0.6875    , 0.4375    , 0.50833333, 0.41587112, 0.68493151,\n",
       "        0.36482085, 0.53254438, 0.25      ],\n",
       "       [0.125     , 0.625     , 0.63333333, 0.57279236, 0.32876712,\n",
       "        0.43648208, 0.29585799, 0.22727273],\n",
       "       [0.4375    , 0.75      , 0.45833333, 0.36097852, 0.46575342,\n",
       "        0.38436482, 0.38461538, 0.27272727],\n",
       "       [0.0625    , 0.125     , 0.48333333, 0.39856802, 0.35616438,\n",
       "        0.31270358, 0.32544379, 0.09090909],\n",
       "       [0.5625    , 0.0625    , 0.35      , 0.2571599 , 0.38356164,\n",
       "        0.23452769, 0.31952663, 0.18181818],\n",
       "       [0.75      , 0.        , 0.25833333, 0.19212411, 0.2739726 ,\n",
       "        0.        , 0.07100592, 0.13636364],\n",
       "       [0.125     , 0.25      , 0.36666667, 0.29653938, 0.32876712,\n",
       "        0.04234528, 0.13017751, 0.04545455],\n",
       "       [0.0625    , 0.1875    , 0.3       , 0.21300716, 0.43835616,\n",
       "        0.28664495, 0.21893491, 0.25      ],\n",
       "       [0.9375    , 0.3125    , 0.28333333, 0.21539379, 0.16438356,\n",
       "        0.07166124, 0.25443787, 0.06818182],\n",
       "       [0.625     , 1.        , 0.16666667, 0.10083532, 0.7260274 ,\n",
       "        0.27361564, 0.32544379, 0.36363636],\n",
       "       [0.125     , 0.        , 0.63333333, 0.53818616, 0.28767123,\n",
       "        0.58957655, 0.56804734, 0.22727273],\n",
       "       [0.375     , 0.625     , 0.29166667, 0.20465394, 0.46575342,\n",
       "        0.34527687, 0.36686391, 0.34090909],\n",
       "       [0.0625    , 0.25      , 0.275     , 0.19689737, 0.36986301,\n",
       "        0.21824104, 0.23668639, 0.20454545],\n",
       "       [0.5625    , 0.        , 0.6       , 0.52147971, 0.54794521,\n",
       "        0.4267101 , 0.33136095, 0.15909091],\n",
       "       [0.8125    , 0.0625    , 0.        , 0.        , 0.21917808,\n",
       "        0.06840391, 0.24852071, 0.27272727],\n",
       "       [0.6875    , 0.1875    , 0.28333333, 0.19868735, 0.63013699,\n",
       "        0.27687296, 0.46153846, 0.34090909],\n",
       "       [0.6875    , 0.625     , 0.21666667, 0.1473747 , 0.45205479,\n",
       "        0.17263844, 0.19526627, 0.15909091],\n",
       "       [1.        , 0.        , 0.29166667, 0.21420048, 0.24657534,\n",
       "        0.12703583, 0.27218935, 0.09090909],\n",
       "       [0.625     , 0.875     , 0.19166667, 0.13484487, 0.21917808,\n",
       "        0.03908795, 0.0887574 , 0.13636364],\n",
       "       [0.625     , 0.6875    , 0.29166667, 0.22076372, 0.09589041,\n",
       "        0.07491857, 0.        , 0.15909091],\n",
       "       [1.        , 0.25      , 0.2       , 0.14081146, 0.17808219,\n",
       "        0.03257329, 0.30769231, 0.18181818],\n",
       "       [0.3125    , 0.9375    , 0.56666667, 0.49582339, 0.61643836,\n",
       "        0.36156352, 0.43786982, 0.22727273],\n",
       "       [0.5625    , 0.875     , 0.375     , 0.3048926 , 0.28767123,\n",
       "        0.10749186, 0.15976331, 0.09090909],\n",
       "       [0.5625    , 0.125     , 0.175     , 0.12350835, 0.34246575,\n",
       "        0.05537459, 0.33727811, 0.13636364],\n",
       "       [0.0625    , 0.5       , 0.61666667, 0.56682578, 0.47945205,\n",
       "        0.28990228, 0.33727811, 0.15909091],\n",
       "       [0.5       , 0.5625    , 0.36666667, 0.27147971, 0.60273973,\n",
       "        0.32247557, 0.40236686, 0.34090909],\n",
       "       [0.8125    , 0.25      , 0.25833333, 0.19391408, 0.15068493,\n",
       "        0.        , 0.27810651, 0.04545455],\n",
       "       [0.875     , 0.9375    , 0.01666667, 0.01372315, 0.38356164,\n",
       "        0.04885993, 0.19526627, 0.43181818],\n",
       "       [0.375     , 0.4375    , 0.10833333, 0.06563246, 0.5890411 ,\n",
       "        0.14006515, 0.82248521, 0.38636364],\n",
       "       [1.        , 0.25      , 0.025     , 0.01193317, 0.73972603,\n",
       "        0.16938111, 0.28402367, 0.34090909],\n",
       "       [0.1875    , 0.6875    , 0.36666667, 0.26491647, 0.47945205,\n",
       "        0.53094463, 0.35502959, 0.45454545],\n",
       "       [0.9375    , 0.375     , 0.05833333, 0.03520286, 0.09589041,\n",
       "        0.16286645, 0.58579882, 0.38636364],\n",
       "       [0.4375    , 0.5       , 0.25833333, 0.17720764, 0.57534247,\n",
       "        0.28664495, 0.33136095, 0.29545455],\n",
       "       [0.125     , 0.625     , 0.375     , 0.27804296, 0.64383562,\n",
       "        0.35830619, 0.35502959, 0.31818182],\n",
       "       [0.1875    , 0.125     , 0.06666667, 0.03997613, 0.46575342,\n",
       "        0.13029316, 0.21893491, 0.36363636],\n",
       "       [0.5625    , 0.0625    , 0.16666667, 0.11455847, 0.15068493,\n",
       "        0.02931596, 0.10059172, 0.09090909],\n",
       "       [0.4375    , 0.375     , 0.05833333, 0.02923628, 0.50684932,\n",
       "        0.33550489, 0.44970414, 0.61363636],\n",
       "       [0.5       , 0.625     , 0.24166667, 0.17959427, 0.38356164,\n",
       "        0.04560261, 0.14201183, 0.09090909],\n",
       "       [0.75      , 0.4375    , 0.6       , 0.55369928, 0.2739726 ,\n",
       "        0.21172638, 0.13609467, 0.04545455],\n",
       "       [0.        , 0.9375    , 0.05833333, 0.02505967, 0.38356164,\n",
       "        0.37459283, 0.32544379, 0.84090909],\n",
       "       [0.75      , 0.0625    , 0.51666667, 0.43377088, 0.50684932,\n",
       "        0.4723127 , 0.34319527, 0.27272727],\n",
       "       [0.8125    , 0.875     , 0.31666667, 0.22792363, 0.42465753,\n",
       "        0.29315961, 0.18343195, 0.29545455],\n",
       "       [0.5625    , 0.125     , 0.225     , 0.16050119, 0.30136986,\n",
       "        0.09771987, 0.21893491, 0.13636364],\n",
       "       [0.75      , 0.4375    , 0.43333333, 0.36754177, 0.30136986,\n",
       "        0.14983713, 0.26627219, 0.02272727],\n",
       "       [0.0625    , 0.375     , 0.3       , 0.21300716, 0.80821918,\n",
       "        0.21824104, 0.62130178, 0.29545455],\n",
       "       [0.125     , 0.625     , 0.56666667, 0.4797136 , 0.50684932,\n",
       "        0.57654723, 0.47337278, 0.31818182],\n",
       "       [0.4375    , 0.4375    , 0.76666667, 0.62231504, 0.80821918,\n",
       "        1.        , 0.92307692, 0.63636364],\n",
       "       [0.8125    , 0.3125    , 0.25833333, 0.18138425, 0.39726027,\n",
       "        0.18566775, 0.21893491, 0.15909091],\n",
       "       [0.0625    , 0.4375    , 0.18333333, 0.11933174, 0.54794521,\n",
       "        0.18241042, 0.28994083, 0.38636364],\n",
       "       [0.5       , 0.625     , 0.28333333, 0.18973747, 0.52054795,\n",
       "        0.37785016, 0.34911243, 0.36363636],\n",
       "       [0.0625    , 0.25      , 1.        , 1.        , 0.49315068,\n",
       "        0.74592834, 0.28402367, 0.34090909],\n",
       "       [0.6875    , 0.1875    , 0.64166667, 0.5548926 , 0.71232877,\n",
       "        0.45928339, 0.16568047, 0.43181818],\n",
       "       [1.        , 0.625     , 0.20833333, 0.14379475, 0.36986301,\n",
       "        0.11074919, 0.43195266, 0.15909091],\n",
       "       [0.3125    , 0.125     , 0.575     , 0.52088305, 0.39726027,\n",
       "        0.21824104, 0.46153846, 0.15909091],\n",
       "       [0.625     , 0.9375    , 0.35      , 0.26610979, 0.32876712,\n",
       "        0.19869707, 0.43195266, 0.06818182],\n",
       "       [0.625     , 0.        , 0.58333333, 0.52147971, 0.2739726 ,\n",
       "        0.27035831, 0.35502959, 0.06818182],\n",
       "       [0.125     , 0.        , 0.23333333, 0.1575179 , 0.24657534,\n",
       "        0.18241042, 0.34319527, 0.25      ],\n",
       "       [0.1875    , 0.75      , 0.36666667, 0.26849642, 0.5890411 ,\n",
       "        0.31270358, 0.4556213 , 0.22727273],\n",
       "       [0.875     , 1.        , 0.35833333, 0.27505967, 0.2739726 ,\n",
       "        0.15635179, 0.20118343, 0.13636364],\n",
       "       [0.0625    , 0.0625    , 0.4       , 0.31384248, 0.30136986,\n",
       "        0.21498371, 0.21893491, 0.18181818],\n",
       "       [0.3125    , 0.1875    , 0.275     , 0.20883055, 0.05479452,\n",
       "        0.04234528, 0.02366864, 0.        ],\n",
       "       [0.0625    , 0.375     , 0.29166667, 0.21062053, 0.43835616,\n",
       "        0.14332248, 0.17159763, 0.09090909],\n",
       "       [0.8125    , 0.9375    , 0.4       , 0.30071599, 0.46575342,\n",
       "        0.38110749, 0.30177515, 0.22727273],\n",
       "       [0.875     , 0.3125    , 0.66666667, 0.63365155, 0.28767123,\n",
       "        0.3029316 , 0.44378698, 0.06818182],\n",
       "       [0.8125    , 0.1875    , 0.21666667, 0.14856802, 0.47945205,\n",
       "        0.10749186, 0.32544379, 0.29545455],\n",
       "       [0.625     , 1.        , 0.08333333, 0.05548926, 0.43835616,\n",
       "        0.04885993, 0.        , 0.36363636],\n",
       "       [0.75      , 0.8125    , 0.18333333, 0.12589499, 0.2739726 ,\n",
       "        0.12052117, 0.15976331, 0.29545455],\n",
       "       [0.4375    , 1.        , 0.35      , 0.26312649, 0.38356164,\n",
       "        0.247557  , 0.31360947, 0.25      ]])"
      ]
     },
     "execution_count": 17,
     "metadata": {},
     "output_type": "execute_result"
    }
   ],
   "source": [
    "x"
   ]
  },
  {
   "cell_type": "markdown",
   "metadata": {},
   "source": [
    "<h3>Training and Test split</h3>"
   ]
  },
  {
   "cell_type": "code",
   "execution_count": 18,
   "metadata": {},
   "outputs": [],
   "source": [
    "from sklearn.model_selection import train_test_split\n",
    "x_train, x_test, y_train, y_test = train_test_split(x,y,test_size=0.2,random_state=42)"
   ]
  },
  {
   "cell_type": "code",
   "execution_count": 19,
   "metadata": {},
   "outputs": [],
   "source": [
    "#Lets create two arrays to store results of classification model\n",
    "names=[] \n",
    "scores=[]"
   ]
  },
  {
   "cell_type": "markdown",
   "metadata": {},
   "source": [
    "<h3>Classification</h3>\n",
    "<h4>Lets apply our first logistic regression model</h4>"
   ]
  },
  {
   "cell_type": "code",
   "execution_count": 20,
   "metadata": {},
   "outputs": [
    {
     "name": "stdout",
     "output_type": "stream",
     "text": [
      "Logistic Regression Classification Test Accuracy 0.8\n"
     ]
    }
   ],
   "source": [
    "from sklearn.linear_model import LogisticRegression\n",
    "\n",
    "lreg = LogisticRegression()\n",
    "lreg.fit(x_train, y_train) \n",
    "\n",
    "print(\"Logistic Regression Classification Test Accuracy {}\".format(lreg.score(x_test,y_test)))"
   ]
  },
  {
   "cell_type": "code",
   "execution_count": 21,
   "metadata": {},
   "outputs": [],
   "source": [
    "names.append(\"Logistic Reg.\")\n",
    "scores.append(lreg.score(x_test,y_test))"
   ]
  },
  {
   "cell_type": "markdown",
   "metadata": {},
   "source": [
    "<h4>Lets apply our next kNN classifier</h4>"
   ]
  },
  {
   "cell_type": "code",
   "execution_count": 23,
   "metadata": {},
   "outputs": [
    {
     "name": "stdout",
     "output_type": "stream",
     "text": [
      "Score for Number of Neighbors = 10: 0.7\n"
     ]
    }
   ],
   "source": [
    "from sklearn.neighbors import KNeighborsClassifier\n",
    "knn = KNeighborsClassifier(n_neighbors=10)  \n",
    "\n",
    "knn.fit(x_train,y_train)\n",
    "print(\"Score for Number of Neighbors = 10: {}\".format(knn.score(x_test,y_test)))"
   ]
  },
  {
   "cell_type": "code",
   "execution_count": 24,
   "metadata": {},
   "outputs": [],
   "source": [
    "names.append(\"KNN\")\n",
    "scores.append(knn.score(x_test,y_test))"
   ]
  },
  {
   "cell_type": "markdown",
   "metadata": {},
   "source": [
    "<h4>Lets try Random Forest classification model now</h4>"
   ]
  },
  {
   "cell_type": "code",
   "execution_count": 26,
   "metadata": {},
   "outputs": [
    {
     "name": "stdout",
     "output_type": "stream",
     "text": [
      "Random Forest Classification Score:  0.75\n"
     ]
    }
   ],
   "source": [
    "from sklearn.ensemble import RandomForestClassifier\n",
    "rand_forest = RandomForestClassifier(n_estimators=100, random_state=42)\n",
    "rand_forest.fit(x_train,y_train)\n",
    "print(\"Random Forest Classification Score: \",rand_forest.score(x_test,y_test))\n"
   ]
  },
  {
   "cell_type": "code",
   "execution_count": 27,
   "metadata": {},
   "outputs": [],
   "source": [
    "names.append(\"Random Forest\")\n",
    "scores.append(rand_forest.score(x_test,y_test))"
   ]
  },
  {
   "cell_type": "markdown",
   "metadata": {},
   "source": [
    "<h3>Concluding remarks</h3>"
   ]
  },
  {
   "cell_type": "code",
   "execution_count": 29,
   "metadata": {},
   "outputs": [
    {
     "data": {
      "text/plain": [
       "Text(0, 0.5, 'Method Score')"
      ]
     },
     "execution_count": 29,
     "metadata": {},
     "output_type": "execute_result"
    },
    {
     "data": {
      "image/png": "[encoded data removed]",
      "text/plain": [
       "<Figure size 1080x720 with 1 Axes>"
      ]
     },
     "metadata": {
      "needs_background": "light"
     },
     "output_type": "display_data"
    }
   ],
   "source": [
    "plt.figure(figsize=(15,10))\n",
    "plt.ylim([0.60,0.90])\n",
    "plt.bar(names,scores,width=0.2)\n",
    "plt.xlabel('Method Name')\n",
    "plt.ylabel('Method Score')"
   ]
  },
  {
   "cell_type": "markdown",
   "metadata": {},
   "source": [
    "<h3>As we can clearly see that Logistic regression performs best on Prostate cancer</h3> "
   ]
  },
  {
   "cell_type": "code",
   "execution_count": null,
   "metadata": {},
   "outputs": [],
   "source": []
  },
  {
   "cell_type": "code",
   "execution_count": null,
   "metadata": {},
   "outputs": [],
   "source": []
  }
 ],
 "metadata": {
  "kernelspec": {
   "display_name": "Python 3",
   "language": "python",
   "name": "python3"
  },
  "language_info": {
   "codemirror_mode": {
    "name": "ipython",
    "version": 3
   },
   "file_extension": ".py",
   "mimetype": "text/x-python",
   "name": "python",
   "nbconvert_exporter": "python",
   "pygments_lexer": "ipython3",
   "version": "3.7.6"
  }
 },
 "nbformat": 4,
 "nbformat_minor": 4
}
